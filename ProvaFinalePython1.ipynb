{
 "cells": [
  {
   "cell_type": "code",
   "execution_count": 69,
   "metadata": {},
   "outputs": [
    {
     "data": {
      "text/plain": [
       "402810"
      ]
     },
     "execution_count": 69,
     "metadata": {},
     "output_type": "execute_result"
    }
   ],
   "source": [
    "import csv\n",
    "\n",
    "filepath = \"C:\\\\Users\\\\feder\\\\OneDrive\\\\Documenti\\\\Epicode\\\\Python\\\\Prova Finale\\\\owid-covid-data.csv\"\n",
    "\n",
    "with open(filepath, \"r\") as csvfile:\n",
    "    reader = csv.reader(csvfile)\n",
    "    num_rows = sum(1 for row in reader)\n",
    "\n",
    "num_rows\n",
    "#primo metodo per contare le righe"
   ]
  },
  {
   "cell_type": "code",
   "execution_count": 70,
   "metadata": {},
   "outputs": [
    {
     "name": "stdout",
     "output_type": "stream",
     "text": [
      "102852370 Byte\n"
     ]
    }
   ],
   "source": [
    "import os\n",
    "\n",
    "file_path =\"C:\\\\Users\\\\feder\\\\OneDrive\\\\Documenti\\\\Epicode\\\\Python\\\\Prova Finale\\\\owid-covid-data.csv\"\n",
    "size=os.path.getsize(file_path)\n",
    "print(str(size)+\" \"+\"Byte\")\n"
   ]
  },
  {
   "cell_type": "code",
   "execution_count": 14,
   "metadata": {},
   "outputs": [
    {
     "name": "stdout",
     "output_type": "stream",
     "text": [
      "Numero righe: 402809\n",
      "Numero colonne: 67\n",
      "Tipi di dati per ciascuna colonna:\n",
      "iso_code                                    object\n",
      "continent                                   object\n",
      "location                                    object\n",
      "date                                        object\n",
      "total_cases                                float64\n",
      "                                            ...   \n",
      "population                                 float64\n",
      "excess_mortality_cumulative_absolute       float64\n",
      "excess_mortality_cumulative                float64\n",
      "excess_mortality                           float64\n",
      "excess_mortality_cumulative_per_million    float64\n",
      "Length: 67, dtype: object\n",
      "102852370 Byte\n",
      "Data di creazione del file: 2024-06-08 15:50:51\n",
      "Data dell'ultima modifica del file: 2024-06-07 17:56:30\n",
      "['Asia' nan 'Europe' 'Africa' 'Oceania' 'North America' 'South America']\n",
      "       continent  casi_totali\n",
      "0         Africa        85821\n",
      "1           Asia        68806\n",
      "2         Europe        78661\n",
      "3  North America        62537\n",
      "4        Oceania        27520\n",
      "5  South America        21420\n",
      "344765\n",
      "363712\n",
      "                       mean          max  count  percent(casi_cont/casi_mondo)\n",
      "continent                                                                     \n",
      "Africa         1.585248e+05    4072697.0  85821                      23.595867\n",
      "Asia           3.327540e+06   99357895.0  68806                      18.917715\n",
      "Europe         2.762451e+06   38997490.0  78661                      21.627277\n",
      "North America  1.879169e+06  103436829.0  62537                      17.194099\n",
      "Oceania        3.795285e+05   11861161.0  27520                       7.566426\n",
      "South America  3.183802e+06   37519960.0  21420                       5.889275\n",
      "                    mean          max  count  percent(casi_cont/casi_mondo)\n",
      "continent                                                                  \n",
      "Africa         continent    4072697.0  85821                      23.595867\n",
      "Asia           continent   99357895.0  68806                      18.917715\n",
      "Europe         continent   38997490.0  78661                      21.627277\n",
      "North America  continent  103436829.0  62537                      17.194099\n",
      "Oceania        continent   11861161.0  27520                       7.566426\n",
      "South America  continent   37519960.0  21420                       5.889275\n"
     ]
    }
   ],
   "source": [
    "import pandas as pd\n",
    "import os\n",
    "import datetime\n",
    "\n",
    "filepath = \"C:\\\\Users\\\\feder\\\\OneDrive\\\\Documenti\\\\Epicode\\\\Python\\\\Prova Finale\\\\owid-covid-data.csv\"\n",
    "df = pd.read_csv(filepath)\n",
    "#intestazione colonne\n",
    "columns=df.columns.to_list()\n",
    "#numero righe e colonne\n",
    "num_rows, num_cols = df.shape\n",
    "print(f\"Numero righe: {num_rows}\")\n",
    "print(f\"Numero colonne: {num_cols}\")\n",
    "#il tipo dei dati\n",
    "data_types = df.dtypes\n",
    "print(f\"Tipi di dati per ciascuna colonna:\\n{data_types}\")\n",
    "#dimensione in byte\n",
    "size=os.path.getsize(filepath)\n",
    "print(str(size)+\" \"+\"Byte\")\n",
    "\n",
    "#la data di creazione del file\n",
    "\n",
    "creation_time = os.path.getctime(filepath)\n",
    "data_creazione_leggibile=datetime.datetime.fromtimestamp(creation_time).strftime('%Y-%m-%d %H:%M:%S')\n",
    "print(f\"Data di creazione del file: {data_creazione_leggibile}\")\n",
    "\n",
    "# Ottieni la data dell'ultima modifica del file\n",
    "\n",
    "modification_time = os.path.getmtime(filepath)\n",
    "modification_time_readable = datetime.datetime.fromtimestamp(modification_time).strftime('%Y-%m-%d %H:%M:%S')\n",
    "print(f\"Data dell'ultima modifica del file: {modification_time_readable}\")\n",
    "\n",
    "# Visualizza i valori univoci della colonna \"continent\"\n",
    "valori_unici = df['continent'].unique()\n",
    "print(valori_unici)\n",
    "\n",
    "#Si chiede poi per ogni continente di trovare il numero di casi totali avvenuti in quello stesso continente;\n",
    "#si chiede di non considerare eventuali locazioni che nel dataset non appartengono ad alcun continente;\n",
    "\n",
    "tot_casi_continente = df.groupby('continent', dropna=True)['total_cases'].count().reset_index(name='casi_totali')\n",
    "print(tot_casi_continente) #numero di casi totali avvenuti in quello stesso continente\n",
    "tot_casi_mondo=tot_casi_continente['casi_totali'].sum()\n",
    "print(tot_casi_mondo)\n",
    "\n",
    "\n",
    "#Sempre riguardo i casi totali, si chiede di scrivere del codice che, date due variabili contenenti i nomi di continenti,\n",
    "# ne confronti i seguenti relativi descrittori statistici:\n",
    "# valore massimo, media, e percentuale rispetto al numero dei casi totali nel mondo \n",
    "#(calcolati anche sulle locazioni senza indicazione di continente);\n",
    "new_tot_casi_continente=df.groupby('continent',dropna=False)['total_cases'].count().reset_index(name='casi_totali') #ci sono locazioni senza nome continente\n",
    "new_tot_casi_mondo=new_tot_casi_continente['casi_totali'].sum()\n",
    "print(new_tot_casi_mondo)\n",
    "type(tot_casi_continente)\n",
    "#percentuale rispetto al numero dei casi totali nel mondo\n",
    "\n",
    "\n",
    "df_raggruppato = df.groupby('continent', dropna=True)['total_cases'].agg(['mean', 'max','count'])\n",
    "df_raggruppato['percent(casi_cont/casi_mondo)']=(df_raggruppato['count'] / new_tot_casi_mondo)*100\n",
    "print(df_raggruppato)\n",
    "df_raggruppato.iloc[:, 0] = 'continent'\n",
    "print(df_raggruppato)\n",
    "\n",
    "continente_1 = 'Asia'\n",
    "continente_2 = 'Oceania'\n",
    "\n"
   ]
  },
  {
   "cell_type": "code",
   "execution_count": 8,
   "metadata": {},
   "outputs": [
    {
     "data": {
      "text/plain": [
       "Index(['mean', 'max', 'count', 'percent(casi_cont/casi_mondo)'], dtype='object')"
      ]
     },
     "execution_count": 8,
     "metadata": {},
     "output_type": "execute_result"
    }
   ],
   "source": [
    "df_raggruppato.columns"
   ]
  }
 ],
 "metadata": {
  "kernelspec": {
   "display_name": "base",
   "language": "python",
   "name": "python3"
  },
  "language_info": {
   "codemirror_mode": {
    "name": "ipython",
    "version": 3
   },
   "file_extension": ".py",
   "mimetype": "text/x-python",
   "name": "python",
   "nbconvert_exporter": "python",
   "pygments_lexer": "ipython3",
   "version": "3.11.7"
  }
 },
 "nbformat": 4,
 "nbformat_minor": 2
}
